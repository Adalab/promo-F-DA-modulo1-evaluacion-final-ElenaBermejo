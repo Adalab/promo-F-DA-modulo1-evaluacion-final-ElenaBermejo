{
 "cells": [
  {
   "cell_type": "code",
   "execution_count": 64,
   "metadata": {},
   "outputs": [],
   "source": [
    "import re\n",
    "class TiendaOnline:\n",
    "    def __init__(self,name):\n",
    "        self.name = name\n",
    "        self.stock = []\n",
    "        self.clientes = []\n",
    "        self.ventas = ventas =0\n",
    "\n",
    "    def agregar_producto(self,nombre, precio,cantidad):\n",
    "    #chequear si el producto está en la lista stock de producto que contiene diccionarios    \n",
    "        \n",
    "        if nombre not in self.stock:\n",
    "            new_producto = {\"nombre\" : nombre,\"precio\" : precio,\"cantidad\" : cantidad}\n",
    "            self.stock.append(new_producto)\n",
    "            print( f\"{nombre} ha sido añadido a inventario al stock\")   \n",
    "        #else:\n",
    "            #for item in self.stock:\n",
    "                #for elemento in item:\n",
    "                    #if nombre == item[\"nombre\"]:\n",
    "                        #item[\"cantidad\"]= cantidad+2\n",
    "                    #print (f\"{nombre} se encuentra en inventario con su cantidad actualizada{cantidad}\")\n",
    "        return self.stock               \n",
    "           \n",
    "    def ver_inventario(self):\n",
    "        for i in self.stock: #aqui me chequea los diccionarios dentro de la lista\n",
    "            full_list = str(i) \n",
    "            full_list = re.sub(\"{|'|\\}\", \"\", full_list)  \n",
    "            print(full_list)  \n",
    "        return full_list\n",
    "    \n",
    "    def buscar_producto(self,nombre):\n",
    "        for search in self.stock[0:-1]:\n",
    "            if nombre in search[\"nombre\"]:\n",
    "                print (f\"producto encontrado {nombre}: {search}\")\n",
    "                \n",
    "            else:\n",
    "                print (f\"producto {nombre} no encontrado\")\n",
    "                \n",
    "        return search\n",
    "    \n",
    "    def actualizar_producto(self,nombre,cantidad):\n",
    "        for actualizacion in self.stock[0:-1]:\n",
    "            if nombre in actualizacion[\"nombre\"]:\n",
    "                actualizacion[\"cantidad\"] = cantidad\n",
    "                print( f\"el producto {nombre} se ha actualizado con {cantidad} de stock nuevo\")\n",
    "                \n",
    "            else:\n",
    "                print( f\"producto {nombre} no encontrado\")\n",
    "                \n",
    "        return actualizacion\n",
    "    def eliminar_producto(self,nombre):\n",
    "        \n",
    "        for eliminacion in self.stock:\n",
    "            if nombre in eliminacion[\"nombre\"]:\n",
    "                eliminacion.pop(\"nombre\")\n",
    "                print (f\"el producto {nombre} se ha eliminado del inventario\")\n",
    "        return eliminacion\n",
    "    #def calcular_valor_inventario(self):\n",
    "\n",
    "    def calcular_valor_inventario(self):\n",
    "        valor_inventario =[]\n",
    "        for producto in self.stock:\n",
    "            for nombre in producto:\n",
    "                producto_nombre = producto.get(\"nombre\")\n",
    "                valor_precio = producto.get(\"precio\")\n",
    "                valor_cantidad = producto.get(\"cantidad\")\n",
    "                continue\n",
    "            valor_producto = valor_cantidad*valor_precio\n",
    "            valor_inventario.append(valor_producto)\n",
    "            print(f\"El valor del producto {producto_nombre} es {valor_producto}\")\n",
    "            print(f\"El valor del producto {valor_producto}\")\n",
    "        print(valor_inventario)\n",
    "        valor_total_stock = sum(valor_inventario)\n",
    "        print(f\"El valor total del stock de la tienda es  {valor_total_stock} euros\")\n",
    "    #def realizar_compra(self):\n",
    "    def realizar_compra(self,nombrecli,carrito):\n",
    "        producto_seleccionado = (input(\"Elija un producto\"))\n",
    "        carrito= []\n",
    "        if nombrecli in self.clientes:\n",
    "            compra = self.clientes[\"compras\"] + 1\n",
    "            carrito.append(producto_seleccionado)\n",
    "            self.stock.pop(producto_seleccionado)\n",
    "            for item in self.stock:\n",
    "                if producto_seleccionado in item[\"nombre\"]:\n",
    "                    coste_compra = item[\"precio\"]\n",
    "            return (f\"El producto {producto_seleccionado} tiene un coste de {coste_compra}, el cliente tiene un registro de compras ahora de {compra} \")  \n",
    "        #else:\n",
    "            #print (\"El cliente no se encuentra en la lista\")\n",
    "        \n",
    "                              \n",
    "         \n",
    "    #def agregar clientes(self):\n",
    "    def agregar_clientes(self,nombrecli, email,compras):\n",
    "        new_cliente = {\"nombrecliente\" : nombrecli,\"email\" : email,\"compras\" : compras}\n",
    "        self.clientes.append(new_cliente)\n",
    "        print (f\"{nombrecli} ha sido añadido a la lista {self.clientes}\")\n",
    "        return self.clientes\n",
    "    \n",
    "    def ver_clientes(self):\n",
    "        for nombre in self.clientes:\n",
    "            lista_customers = str(nombre) \n",
    "            lista_customers = re.sub(\"{|'|\\}\", \"\", lista_customers)  \n",
    "            print(lista_customers)  \n",
    "        return lista_customers\n",
    "        \n"
   ]
  },
  {
   "cell_type": "code",
   "execution_count": 65,
   "metadata": {},
   "outputs": [
    {
     "name": "stdout",
     "output_type": "stream",
     "text": [
      "_____#Agregar productos____\n",
      "pantalon ha sido añadido a inventario al stock\n",
      "camisa ha sido añadido a inventario al stock\n",
      "zapatos ha sido añadido a inventario al stock\n",
      "camisa azul ha sido añadido a inventario al stock\n",
      "corbata1 ha sido añadido a inventario al stock\n",
      "corbata ha sido añadido a inventario al stock\n",
      "_____#Agregar productos____\n",
      "El inventario total: [{'nombre': 'pantalon', 'precio': 30, 'cantidad': 30}, {'nombre': 'camisa', 'precio': 20, 'cantidad': 40}, {'nombre': 'zapatos', 'precio': 50, 'cantidad': 40}, {'nombre': 'camisa azul', 'precio': 20, 'cantidad': 50}, {'nombre': 'corbata1', 'precio': 12, 'cantidad': 8}, {'nombre': 'corbata', 'precio': 3, 'cantidad': 18}]\n"
     ]
    }
   ],
   "source": [
    "tienda = TiendaOnline (\"La Tienda\")\n",
    "#Agregar productos\n",
    "print(\"_____#Agregar productos____\")\n",
    "inventario = tienda.agregar_producto(\"pantalon\", 30,30)\n",
    "inventario = tienda.agregar_producto(\"camisa\", 20,40)\n",
    "inventario = tienda.agregar_producto(\"zapatos\", 50,40)\n",
    "inventario = tienda.agregar_producto(\"camisa azul\", 20,50)\n",
    "inventario = tienda.agregar_producto(\"corbata1\",12,8)\n",
    "inventario = tienda.agregar_producto(\"corbata\",3,18)\n",
    "print(\"_____#Agregar productos____\")\n",
    "print(\"El inventario total:\",inventario)"
   ]
  },
  {
   "cell_type": "code",
   "execution_count": 66,
   "metadata": {},
   "outputs": [
    {
     "name": "stdout",
     "output_type": "stream",
     "text": [
      "______#Ver stock______\n",
      "nombre: pantalon, precio: 30, cantidad: 30\n",
      "nombre: camisa, precio: 20, cantidad: 40\n",
      "nombre: zapatos, precio: 50, cantidad: 40\n",
      "nombre: camisa azul, precio: 20, cantidad: 50\n",
      "nombre: corbata1, precio: 12, cantidad: 8\n",
      "nombre: corbata, precio: 3, cantidad: 18\n",
      "____#Buscar producto_____\n",
      "producto zapatos no encontrado\n",
      "producto zapatos no encontrado\n",
      "producto encontrado zapatos: {'nombre': 'zapatos', 'precio': 50, 'cantidad': 40}\n",
      "producto zapatos no encontrado\n",
      "producto zapatos no encontrado\n",
      "producto camisa no encontrado\n",
      "producto encontrado camisa: {'nombre': 'camisa', 'precio': 20, 'cantidad': 40}\n",
      "producto camisa no encontrado\n",
      "producto encontrado camisa: {'nombre': 'camisa azul', 'precio': 20, 'cantidad': 50}\n",
      "producto camisa no encontrado\n",
      "producto corbata no encontrado\n",
      "producto corbata no encontrado\n",
      "producto corbata no encontrado\n",
      "producto corbata no encontrado\n",
      "producto encontrado corbata: {'nombre': 'corbata1', 'precio': 12, 'cantidad': 8}\n"
     ]
    }
   ],
   "source": [
    "print(\"______#Ver stock______\")\n",
    "#Ver stock\n",
    "full_stock = tienda.ver_inventario()\n",
    "\n",
    "print(\"____#Buscar producto_____\")\n",
    "#Buscar producto\n",
    "producto_search = tienda.buscar_producto(\"zapatos\")\n",
    "producto_search = tienda.buscar_producto(\"camisa\")\n",
    "producto_search = tienda.buscar_producto(\"corbata\")\n"
   ]
  },
  {
   "cell_type": "code",
   "execution_count": 67,
   "metadata": {},
   "outputs": [
    {
     "name": "stdout",
     "output_type": "stream",
     "text": [
      "___#Actualizar producto___\n",
      "producto zapatos no encontrado\n",
      "producto zapatos no encontrado\n",
      "el producto zapatos se ha actualizado con 48 de stock nuevo\n",
      "producto zapatos no encontrado\n",
      "producto zapatos no encontrado\n",
      "producto manopla no encontrado\n",
      "producto manopla no encontrado\n",
      "producto manopla no encontrado\n",
      "producto manopla no encontrado\n",
      "producto manopla no encontrado\n",
      "___#Eliminar producto___\n",
      "el producto zapatos se ha eliminado del inventario\n",
      "[{'nombre': 'pantalon', 'precio': 30, 'cantidad': 30}, {'nombre': 'camisa', 'precio': 20, 'cantidad': 40}, {'precio': 50, 'cantidad': 48}, {'nombre': 'camisa azul', 'precio': 20, 'cantidad': 50}, {'nombre': 'corbata1', 'precio': 12, 'cantidad': 8}, {'nombre': 'corbata', 'precio': 3, 'cantidad': 18}]\n"
     ]
    }
   ],
   "source": [
    "print(\"___#Actualizar producto___\")\n",
    "#Actualizar producto\n",
    "producto_update = tienda.actualizar_producto(\"zapatos\",48)\n",
    "producto_update = tienda.actualizar_producto(\"manopla\",10)\n",
    "print(\"___#Eliminar producto___\")\n",
    "#Eliminar producto\n",
    "eliminar_items = tienda.eliminar_producto(\"zapatos\")\n",
    "print(inventario)"
   ]
  },
  {
   "cell_type": "code",
   "execution_count": 68,
   "metadata": {},
   "outputs": [
    {
     "name": "stdout",
     "output_type": "stream",
     "text": [
      "___#Calcular_Valor_Inventario___\n",
      "El valor del producto pantalon es 900\n",
      "El valor del producto 900\n",
      "El valor del producto camisa es 800\n",
      "El valor del producto 800\n",
      "El valor del producto None es 2400\n",
      "El valor del producto 2400\n",
      "El valor del producto camisa azul es 1000\n",
      "El valor del producto 1000\n",
      "El valor del producto corbata1 es 96\n",
      "El valor del producto 96\n",
      "El valor del producto corbata es 54\n",
      "El valor del producto 54\n",
      "[900, 800, 2400, 1000, 96, 54]\n",
      "El valor total del stock de la tienda es  5250 euros\n",
      "___#Realizar_Compra___\n"
     ]
    }
   ],
   "source": [
    "\n",
    "print(\"___#Calcular_Valor_Inventario___\")\n",
    "#calcular_valor_inventario\n",
    "valor_inventario = tienda.calcular_valor_inventario()\n",
    "#realizar compra \n",
    "print(\"___#Realizar_Compra___\")\n",
    "compra_cliente = tienda.realizar_compra(\"Ari\",1)"
   ]
  },
  {
   "cell_type": "code",
   "execution_count": 69,
   "metadata": {},
   "outputs": [
    {
     "name": "stdout",
     "output_type": "stream",
     "text": [
      "___#Agregar clientes___\n",
      "Bea ha sido añadido a la lista [{'nombrecliente': 'Bea', 'email': 'bea@email.com', 'compras': 3}]\n",
      "Ari ha sido añadido a la lista [{'nombrecliente': 'Bea', 'email': 'bea@email.com', 'compras': 3}, {'nombrecliente': 'Ari', 'email': 'ari@email.com', 'compras': 4}]\n",
      "[{'nombrecliente': 'Bea', 'email': 'bea@email.com', 'compras': 3}, {'nombrecliente': 'Ari', 'email': 'ari@email.com', 'compras': 4}]\n",
      "___#Ver clientes___\n",
      "nombrecliente: Bea, email: bea@email.com, compras: 3\n",
      "nombrecliente: Ari, email: ari@email.com, compras: 4\n"
     ]
    }
   ],
   "source": [
    "print(\"___#Agregar clientes___\")\n",
    "#Agregar clientes\n",
    "lista_clientes = tienda.agregar_clientes( \"Bea\", \"bea@email.com\",3)\n",
    "lista_clientes = tienda.agregar_clientes( \"Ari\", \"ari@email.com\",4)\n",
    "print(lista_clientes)\n",
    "print(\"___#Ver clientes___\")\n",
    "#Ver clientes\n",
    "ver_lista_clientes = tienda.ver_clientes()\n"
   ]
  },
  {
   "cell_type": "code",
   "execution_count": 70,
   "metadata": {},
   "outputs": [
    {
     "name": "stdout",
     "output_type": "stream",
     "text": [
      "Bea ha sido añadido a la lista [{'nombrecliente': 'Bea', 'email': 'bea@email.com', 'compras': 3}, {'nombrecliente': 'Ari', 'email': 'ari@email.com', 'compras': 4}, {'nombrecliente': 'Bea', 'email': 'bea@email.com', 'compras': 3}]\n",
      "Ari ha sido añadido a la lista [{'nombrecliente': 'Bea', 'email': 'bea@email.com', 'compras': 3}, {'nombrecliente': 'Ari', 'email': 'ari@email.com', 'compras': 4}, {'nombrecliente': 'Bea', 'email': 'bea@email.com', 'compras': 3}, {'nombrecliente': 'Ari', 'email': 'ari@email.com', 'compras': 4}]\n",
      "[{'nombrecliente': 'Bea', 'email': 'bea@email.com', 'compras': 3}, {'nombrecliente': 'Ari', 'email': 'ari@email.com', 'compras': 4}, {'nombrecliente': 'Bea', 'email': 'bea@email.com', 'compras': 3}, {'nombrecliente': 'Ari', 'email': 'ari@email.com', 'compras': 4}]\n"
     ]
    }
   ],
   "source": [
    "#Agregar clientes\n",
    "lista_clientes = tienda.agregar_clientes( \"Bea\", \"bea@email.com\",3)\n",
    "lista_clientes = tienda.agregar_clientes( \"Ari\", \"ari@email.com\",4)\n",
    "print(lista_clientes)"
   ]
  },
  {
   "cell_type": "code",
   "execution_count": 71,
   "metadata": {},
   "outputs": [
    {
     "ename": "IndentationError",
     "evalue": "expected an indented block (117787728.py, line 16)",
     "output_type": "error",
     "traceback": [
      "\u001b[0;36m  File \u001b[0;32m\"/tmp/ipykernel_12257/117787728.py\"\u001b[0;36m, line \u001b[0;32m16\u001b[0m\n\u001b[0;31m    producto_seleccionado = (input(\"Elija un producto\"))\u001b[0m\n\u001b[0m    ^\u001b[0m\n\u001b[0;31mIndentationError\u001b[0m\u001b[0;31m:\u001b[0m expected an indented block\n"
     ]
    }
   ],
   "source": [
    "#realizar compra:\n",
    "inventario\n",
    "lista_nombre = []\n",
    "lista_precio = []\n",
    "lista_cantidad = []\n",
    "for producto in inventario:\n",
    "    for elementos in producto:\n",
    "        producto_nombre = producto.get(\"nombre\")\n",
    "        item_precio = producto.get(\"precio\")\n",
    "        item_cantidad = producto.get(\"cantidad\")\n",
    "        lista_nombre.append(producto_nombre)\n",
    "        lista_precio.append(item_precio)\n",
    "        lista_cantidad.append(item_cantidad)\n",
    "print(lista_nombre,lista_precio,lista_cantidad)\n",
    "def realizar_compra(self):\n",
    "producto_seleccionado = (input(\"Elija un producto\"))\n",
    "carrito= []\n",
    "if nombrecli in lista_clientes:s\n",
    "    carrito.append(producto_seleccionado)\n",
    "    inventario.pop(producto_seleccionado)\n",
    "for item in inventario:\n",
    "    for elemento in item:\n",
    "        if producto_seleccionado in item[\"nombre\"]:\n",
    "            coste_compra = {\"nombre\" : nombre,\"precio\": precio}\n",
    "            print (f\"El producto {producto_seleccionado} tiene un coste de {coste_compra}\")\n",
    "        \n",
    "\n"
   ]
  },
  {
   "cell_type": "code",
   "execution_count": null,
   "metadata": {},
   "outputs": [],
   "source": [
    "#Calcular valor inventario\n",
    "print(inventario)\n",
    "valor_inventario = []\n",
    "for producto in inventario:\n",
    "    for elementos in producto:\n",
    "        producto_nombre = producto.get(\"nombre\")\n",
    "        valor_precio = producto.get(\"precio\")\n",
    "        valor_cantidad = producto.get(\"cantidad\")\n",
    "        continue\n",
    "    valor_producto = valor_cantidad*valor_precio\n",
    "    valor_inventario.append(valor_producto)\n",
    "    print(f\"El valor del producto {producto_nombre} es {valor_producto}\")\n",
    "    print(f\"El valor del producto {valor_producto}\")\n",
    "print(valor_inventario)\n",
    "valor_total_stock = sum(valor_inventario)\n",
    "print(f\"El valor total del stock de la tienda es  {valor_total_stock} euros\")\n"
   ]
  },
  {
   "cell_type": "code",
   "execution_count": null,
   "metadata": {},
   "outputs": [],
   "source": [
    "print(\"inventarion tienda:\",inventario)\n",
    "compra = 0\n",
    "carrito = {}\n",
    "lista_producto_nombre =[]\n",
    "lista_producto=[]\n",
    "for producto in inventario:\n",
    "    for elemento in producto: \n",
    "        producto_nombre = producto.get(\"nombre\")\n",
    "        valor_precio = producto.get(\"precio\")\n",
    "        valor_cantidad = producto.get(\"cantidad\")\n",
    "    lista_producto_nombre.append(producto_nombre)\n",
    "    lista_producto.append(producto)\n",
    "print(lista_producto_nombre)\n",
    "print(lista_producto)\n",
    "#while True:\n",
    "producto_elegido = input(\"Elija el producto que desea comprar\")\n",
    "if producto_elegido.lower() in lista_producto_nombre:\n",
    "    carrito.setdefault(producto_nombre)\n",
    "    print(carrito)"
   ]
  },
  {
   "cell_type": "code",
   "execution_count": null,
   "metadata": {},
   "outputs": [],
   "source": [
    "#def ver_inventario(self):\n",
    "for item in inventario[0:-1]:\n",
    "        full_list = str(item)\n",
    "        full_list = re.sub(\"{|'|\\}\", \"\", full_list)\n",
    "        print(full_list)"
   ]
  },
  {
   "cell_type": "code",
   "execution_count": null,
   "metadata": {},
   "outputs": [],
   "source": [
    "inventario[1]\n",
    "for i in inventario[0:-1]:\n",
    "    producto = i\n",
    "    for v in producto.values():\n",
    "        \n",
    "        if \"pantalon\" in producto.values():\n",
    "            print(v,True)\n",
    "        \n",
    "\n"
   ]
  },
  {
   "cell_type": "code",
   "execution_count": null,
   "metadata": {},
   "outputs": [],
   "source": [
    "print(inventario)\n",
    "lista_nombre = []\n",
    "lista_precio = []\n",
    "lista_cantidad = []\n",
    "for producto in inventario:\n",
    "    lista_nombre = producto.get(\"nombre\")\n",
    "    lista_precio = producto.get(\"precio\")\n",
    "    lista_cantidad = producto.get(\"cantidad\")\n",
    "print(lista_nombre,lista_cantidad,lista_cantidad)"
   ]
  }
 ],
 "metadata": {
  "kernelspec": {
   "display_name": "Python 3",
   "language": "python",
   "name": "python3"
  },
  "language_info": {
   "codemirror_mode": {
    "name": "ipython",
    "version": 3
   },
   "file_extension": ".py",
   "mimetype": "text/x-python",
   "name": "python",
   "nbconvert_exporter": "python",
   "pygments_lexer": "ipython3",
   "version": "3.9.7"
  }
 },
 "nbformat": 4,
 "nbformat_minor": 2
}
